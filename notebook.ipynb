{
  "nbformat": 4,
  "nbformat_minor": 0,
  "metadata": {
    "colab": {
      "name": "notebook.ipynb",
      "provenance": [],
      "collapsed_sections": [
        "-0HLO3VyO9Pg",
        "ov1yi2EyR2OV",
        "jRLrs8mzSCi6",
        "xNc5Ic5tZw-0",
        "mcangn3imtRw",
        "BNg8G-ZPMdpD",
        "Ep6eLAJnMjNN",
        "UR0u8lQjMHh4",
        "kivz_ATllW_7",
        "XSPBPUPByWuy",
        "jXOXkAs93YoD",
        "tZWicEsb_PRB",
        "6Xdbl_9ubi4h",
        "M_x29I-MFu0d",
        "VfQCka68u1hN",
        "mFgwTh4mCy4-",
        "nRYdxIYfvi5a"
      ]
    },
    "kernelspec": {
      "display_name": "Python 3",
      "name": "python3"
    }
  },
  "cells": [
    {
      "cell_type": "markdown",
      "metadata": {
        "id": "-0HLO3VyO9Pg"
      },
      "source": [
        "## Utilitary functions"
      ]
    },
    {
      "cell_type": "code",
      "metadata": {
        "id": "eBMCGG7xO8wv"
      },
      "source": [
        "import numpy as np\n",
        "\n",
        "def make_grid(s,e):\n",
        "  \"\"\"\n",
        "  Creating a square grid\n",
        "  \"\"\"\n",
        "  x = np.linspace(s, e, 500)\n",
        "  y = np.linspace(s, e, 500)\n",
        "  X,Y = np.meshgrid(x,y)\n",
        "  pos = np.empty(X.shape + (2,))\n",
        "  pos[:, :, 0] = X; pos[:, :, 1] = Y\n",
        "\n",
        "  return X, Y, pos\n",
        "\n",
        "def ptlist_to_xy(l):\n",
        "  \"\"\"\n",
        "  Converting a list of points to lists x,y\n",
        "  \"\"\"\n",
        "  return list(zip(*l))"
      ],
      "execution_count": null,
      "outputs": []
    },
    {
      "cell_type": "markdown",
      "metadata": {
        "id": "-nFpNZxdNIrS"
      },
      "source": [
        "## 1.1 Preparatory work"
      ]
    },
    {
      "cell_type": "markdown",
      "metadata": {
        "id": "ov1yi2EyR2OV"
      },
      "source": [
        "### Plotting the density function of the mixture"
      ]
    },
    {
      "cell_type": "code",
      "metadata": {
        "id": "Z4InfGi0M5nf"
      },
      "source": [
        "import numpy as np\n",
        "import matplotlib.pyplot as plt\n",
        "\n",
        "from scipy.stats import multivariate_normal\n",
        "from mpl_toolkits.mplot3d import Axes3D\n",
        "\n",
        "# Mixture parameters\n",
        "mu_1 = [-3, 0]\n",
        "sigma_1 = [[5, -2], [-2, 1]]\n",
        "pi_1 = 0.3\n",
        "\n",
        "mu_2 = [3, 0]\n",
        "sigma_2 = [[5, 2], [2, 2]]\n",
        "pi_2 = 0.7\n",
        "\n",
        "# Creating a grid\n",
        "X,Y,pos = make_grid(-10, 10)\n",
        "\n",
        "# Building a mixture\n",
        "rv_1 = multivariate_normal(mu_1, sigma_1)\n",
        "rv_2 = multivariate_normal(mu_2, sigma_2)\n",
        "\n",
        "# Make a 3D plot\n",
        "fig = plt.figure(num=None, figsize=(20, 13), facecolor='w', edgecolor='k')\n",
        "ax = fig.gca(projection='3d')\n",
        "ax.plot_surface(X, Y, pi_1*rv_1.pdf(pos) + pi_2*rv_2.pdf(pos), cmap='viridis', linewidth=0)\n",
        "plt.show()\n"
      ],
      "execution_count": null,
      "outputs": []
    },
    {
      "cell_type": "markdown",
      "metadata": {
        "id": "jRLrs8mzSCi6"
      },
      "source": [
        "### Simulating a sample of size 500"
      ]
    },
    {
      "cell_type": "code",
      "metadata": {
        "id": "koYkRBnBNl-t"
      },
      "source": [
        "N_POINTS = 500\n",
        "\n",
        "# Sampling the categories\n",
        "k_s = np.random.choice([1,2], N_POINTS, p=[pi_1, pi_2])\n",
        "\n",
        "# Sampling from the gaussians\n",
        "g_1 = np.count_nonzero(k_s == 1)\n",
        "pts_g1 = np.random.multivariate_normal(mu_1, sigma_1, g_1).T\n",
        "pts_g2 = np.random.multivariate_normal(mu_2, sigma_2, N_POINTS - g_1).T\n",
        "\n",
        "# Make a 2D plot\n",
        "fig = plt.figure(num=None, figsize=(10, 7), facecolor='w', edgecolor='k')\n",
        "ax = fig.gca()\n",
        "\n",
        "# Plotting points from both Gaussians\n",
        "plt.scatter(*pts_g1)\n",
        "plt.scatter(*pts_g2)\n",
        "plt.show()"
      ],
      "execution_count": null,
      "outputs": []
    },
    {
      "cell_type": "code",
      "metadata": {
        "id": "lCn62db_vqvQ"
      },
      "source": [
        "a = np.random.choice([1,2], 500, p=[pi_1, pi_2])"
      ],
      "execution_count": null,
      "outputs": []
    },
    {
      "cell_type": "markdown",
      "metadata": {
        "id": "xNc5Ic5tZw-0"
      },
      "source": [
        "### Processing the Unistroke dataset"
      ]
    },
    {
      "cell_type": "code",
      "metadata": {
        "id": "3NQjQHeeVvYX"
      },
      "source": [
        "# Unzipping\n",
        "%%capture\n",
        "![[ -d Unistroke ]] || unzip unistroke.zip"
      ],
      "execution_count": null,
      "outputs": []
    },
    {
      "cell_type": "code",
      "metadata": {
        "id": "z_4zN20haM6s"
      },
      "source": [
        "from glob import glob\n",
        "\n",
        "def load_data():\n",
        "  \"\"\"\n",
        "  Loading the Unistroke dataset\n",
        "  \"\"\"\n",
        "  files = glob('./Unistroke/A*.txt')\n",
        "  data = [open(f, \"r\").read() for f in files]\n",
        "  return [d.split('\\n') for d in data]\n",
        "\n",
        "# Converting data to a list of vectors\n",
        "flatten = lambda l: [item for sublist in l for item in sublist]\n",
        "pts = load_data()\n",
        "pts = [e for e in flatten(pts) if e]\n",
        "pts = [v.split('\\t') for v in pts]\n",
        "pts = [[float(n) for n in l] for l in pts]\n",
        "\n",
        "pair_pts = pts\n",
        "pts = ptlist_to_xy(pts)\n",
        "\n",
        "# Plotting the data\n",
        "fig = plt.figure(num=None, figsize=(12, 7), facecolor='w', edgecolor='k')\n",
        "plt.gca().invert_yaxis()\n",
        "plt.scatter(*pts)\n",
        "plt.show()"
      ],
      "execution_count": null,
      "outputs": []
    },
    {
      "cell_type": "markdown",
      "metadata": {
        "id": "mcangn3imtRw"
      },
      "source": [
        "### Building a normalized list of vectors"
      ]
    },
    {
      "cell_type": "code",
      "metadata": {
        "id": "xftB32aWmySy"
      },
      "source": [
        "# List of points, per file\n",
        "pts_list = [[v.split('\\t') for v in l] for l in load_data()]\n",
        "pts_list = [[[float(v) for v in e] for e in l if e[0]] for l in pts_list]\n",
        "\n",
        "# Computing x[t+1] - x[t]\n",
        "dirs = []\n",
        "for l in pts_list:\n",
        "  for x0,x1 in zip(l,l[1:]):\n",
        "    x1, x0 = np.asarray(x1), np.asarray(x0)\n",
        "    norm = np.linalg.norm(x1 - x0)\n",
        "    if norm: # Filtering 0 values\n",
        "      dirs.append((x1 - x0)/norm)\n",
        "\n",
        "# Plotting the result\n",
        "fig = plt.figure(num=None, figsize=(7, 7), facecolor='w', edgecolor='k')\n",
        "for x,y in dirs:\n",
        "    plt.plot(x, y, \"g.\")\n",
        "plt.show()"
      ],
      "execution_count": null,
      "outputs": []
    },
    {
      "cell_type": "markdown",
      "metadata": {
        "id": "zEgC2RZ0tyfL"
      },
      "source": [
        "## 1.2 Data analysis: Gaussian model"
      ]
    },
    {
      "cell_type": "markdown",
      "metadata": {
        "id": "BNg8G-ZPMdpD"
      },
      "source": [
        "### Bivariate GMM estimation: 2 components"
      ]
    },
    {
      "cell_type": "code",
      "metadata": {
        "id": "lVAr0TDVuI57"
      },
      "source": [
        "import numpy as np\n",
        "np.random.seed(1)"
      ],
      "execution_count": null,
      "outputs": []
    },
    {
      "cell_type": "code",
      "metadata": {
        "id": "7HhG9WAGuHBd"
      },
      "source": [
        "from sklearn import mixture\n",
        "\n",
        "# Fitting the mixture model\n",
        "g = mixture.GaussianMixture(n_components=2)\n",
        "g.fit(dirs)\n",
        "mus, covs, pis = g.means_, g.covariances_, g.weights_\n",
        "save_g = g\n",
        "\n",
        "# Predicting the component for each point\n",
        "k_s = g.predict(dirs)\n",
        "\n",
        "# Predicting probabilities\n",
        "p_s = g.predict_proba(dirs)"
      ],
      "execution_count": null,
      "outputs": []
    },
    {
      "cell_type": "code",
      "metadata": {
        "id": "z0kvUyxKvle1"
      },
      "source": [
        "from matplotlib import ticker\n",
        "\n",
        "def plot_gmm(mus, covs, pis, k_s, cols, dim, ticks):\n",
        "  \"\"\"\n",
        "  Plotting a Gaussian Mixture Model\n",
        "  \"\"\"\n",
        "  def plot_mixture():\n",
        "    X,Y,pos = make_grid(-1.15,1.15)\n",
        "\n",
        "    # Building the mixture\n",
        "    pdf = None\n",
        "    for mu,cov,pi in zip(mus,covs,pis):\n",
        "      if pdf is None:\n",
        "        pdf = pi*multivariate_normal(mu, cov).pdf(pos)\n",
        "      else:\n",
        "        pdf += pi*multivariate_normal(mu, cov).pdf(pos)\n",
        "\n",
        "    ax = plt.gca()\n",
        "    CS = ax.contour(X, Y, pdf,\n",
        "                locator=ticker.LogLocator(base=10, numticks=18),\n",
        "                cmap='Greys')\n",
        "    ax.clabel(CS, inline=1, fmt='%.e', fontsize=10)\n",
        "    CB = plt.colorbar(CS)\n",
        "    return ax\n",
        "\n",
        "  fig = plt.figure(num=None, figsize=dim, facecolor='w', edgecolor='k')\n",
        "\n",
        "  # Plotting normalized vectors\n",
        "  for (x,y),k in zip(dirs,k_s):\n",
        "      plt.plot(x, y, cols[k], marker='.')\n",
        "\n",
        "  # Plotting mixture\n",
        "  ax = plot_mixture()\n",
        "\n",
        "  plt.show()\n",
        "\n",
        "plot_gmm(mus, covs, pis, k_s, ['lime', 'slateblue'], (12,10), 15)"
      ],
      "execution_count": null,
      "outputs": []
    },
    {
      "cell_type": "markdown",
      "metadata": {
        "id": "Ep6eLAJnMjNN"
      },
      "source": [
        "### Bivariate GMM estimation: 3,4 components"
      ]
    },
    {
      "cell_type": "code",
      "metadata": {
        "id": "AdoslCXmSsEm"
      },
      "source": [
        "# Fitting the data with an additional component\n",
        "g = mixture.GaussianMixture(n_components=3)\n",
        "g.fit(dirs)\n",
        "mus, covs, pis = g.means_, g.covariances_, g.weights_\n",
        "\n",
        "# Predicting the component for each point\n",
        "k_s = g.predict(dirs)\n",
        "plot_gmm(mus, covs, pis, k_s, ['lime', 'slateblue', 'red'], (10,10), 15)"
      ],
      "execution_count": null,
      "outputs": []
    },
    {
      "cell_type": "code",
      "metadata": {
        "id": "R0VWyiKb6p-U"
      },
      "source": [
        "# Fitting the data with 4 components\n",
        "g = mixture.GaussianMixture(n_components=4)\n",
        "g.fit(dirs)\n",
        "mus, covs, pis = g.means_, g.covariances_, g.weights_\n",
        "\n",
        "# Predicting the component for each point\n",
        "k_s = g.predict(dirs)\n",
        "plot_gmm(mus, covs, pis, k_s, ['lime', 'slateblue', 'red', 'yellow'], (10,10), 15)"
      ],
      "execution_count": null,
      "outputs": []
    },
    {
      "cell_type": "markdown",
      "metadata": {
        "id": "UR0u8lQjMHh4"
      },
      "source": [
        "### Plotting posterior probabilities (for $K=2$)"
      ]
    },
    {
      "cell_type": "code",
      "metadata": {
        "id": "GHsYTcrsNG47"
      },
      "source": [
        "# Recovering the previous GMM\n",
        "mus, covs, pis = save_g.means_, save_g.covariances_, save_g.weights_\n",
        "\n",
        "# Predicting probabilities\n",
        "p_s = save_g.predict_proba(dirs)"
      ],
      "execution_count": null,
      "outputs": []
    },
    {
      "cell_type": "code",
      "metadata": {
        "id": "2P6mCLOaNTK8"
      },
      "source": [
        "from matplotlib import ticker,colors,cm\n",
        "\n",
        "def plot_probas(p_s, dim, ticks):\n",
        "  \"\"\"\n",
        "  Plotting conditional probabilities\n",
        "  \"\"\"\n",
        "  fig = plt.figure(num=None, figsize=dim, facecolor='w', edgecolor='k')\n",
        "\n",
        "  min_p = 1e-15\n",
        "  max_p = max(p_s)\n",
        "\n",
        "  # Plotting normalized vectors\n",
        "  cmap = plt.cm.viridis\n",
        "  norm = colors.LogNorm(vmin=min_p, vmax=max_p)\n",
        "  for (x,y),p in zip(dirs,p_s):\n",
        "      plt.plot(x, y, color=cmap(norm(p)), marker='o', ms=10, alpha=0.85)\n",
        "  fig.colorbar(cm.ScalarMappable(norm=norm, cmap=cmap),\n",
        "               ax=plt.gca(), aspect=30)\n",
        "\n",
        "  plt.show()\n",
        "\n",
        "plot_probas(p_s[:,1], (10,8), 15)"
      ],
      "execution_count": null,
      "outputs": []
    },
    {
      "cell_type": "markdown",
      "metadata": {
        "id": "kivz_ATllW_7"
      },
      "source": [
        "### Plotting marginal histograms"
      ]
    },
    {
      "cell_type": "code",
      "metadata": {
        "id": "1piu3HNDwBSv"
      },
      "source": [
        "# Extracting lists of x and y coordinates\n",
        "xs, ys = ptlist_to_xy(dirs)\n",
        "xs, ys = np.array(xs), np.array(ys)"
      ],
      "execution_count": null,
      "outputs": []
    },
    {
      "cell_type": "code",
      "metadata": {
        "id": "KVgRHiFiUxfu"
      },
      "source": [
        "from scipy.stats import norm\n",
        "\n",
        "def plot_comp(data, legend, range, bins, figsize):\n",
        "  \"\"\"\n",
        "  Plotting a marginal histogram\n",
        "  \"\"\"\n",
        "  fig = plt.figure(num=None, figsize=figsize, facecolor='w', edgecolor='k')\n",
        "\n",
        "  # Plotting histogram\n",
        "  axes = plt.gca()\n",
        "  axes.set_xlim(range)\n",
        "\n",
        "  plt.hist(data, bins=bins, density=True, color='darkgrey')\n",
        "  plt.margins(0)\n",
        "\n",
        "  plt.xlabel(legend)\n",
        "  plt.ylabel('Frequency')\n",
        "  plt.grid(False)\n",
        "\n",
        "def plot_gmm_1d(mus, covs, pis, range):\n",
        "  \"\"\"\n",
        "  Plotting a one-dimensional Gaussian Mixture Model\n",
        "  \"\"\"\n",
        "  t = np.arange(*range, 0.005)\n",
        "\n",
        "  # Building the mixture\n",
        "  pdf = None\n",
        "  for mu,cov,pi in zip(mus,covs,pis):\n",
        "    if pdf is None:\n",
        "      pdf = pi*norm(mu, cov).pdf(t)\n",
        "    else:\n",
        "      pdf += pi*norm(mu, cov).pdf(t)\n",
        "\n",
        "  pdf = pdf.reshape(-1)\n",
        "  plt.plot(t, pdf, linewidth=2.5, label=\"$\\Sigma$\", color='red', zorder=10)\n",
        "  return ax\n",
        "\n",
        "def plot_1D_fit(data, legend, range=[-1., 1.], bins=150, figsize=(10,5)):\n",
        "  \"\"\"\n",
        "  Plotting the marginal fit\n",
        "  \"\"\"\n",
        "  # Plotting X/Y histogram\n",
        "  plot_comp(data, legend, range, bins, figsize)\n",
        "\n",
        "  # Fitting a univariate Gaussian mixture\n",
        "  g = mixture.GaussianMixture(n_components=2)\n",
        "  g.fit(data.reshape(-1,1))\n",
        "  mus, covs, pis = g.means_, g.covariances_, g.weights_\n",
        "\n",
        "  # Predicting the component for each point\n",
        "  plot_gmm_1d(mus, covs, pis, range)"
      ],
      "execution_count": null,
      "outputs": []
    },
    {
      "cell_type": "code",
      "metadata": {
        "id": "QpQZ0w8PxV6G"
      },
      "source": [
        "# Plotting X histogram\n",
        "plot_1D_fit(xs, \"Value of the $x$-component\")"
      ],
      "execution_count": null,
      "outputs": []
    },
    {
      "cell_type": "code",
      "metadata": {
        "id": "rewqbxhZy5O8"
      },
      "source": [
        "# Plotting Y histogram\n",
        "plot_1D_fit(ys, \"Value of the $y$-component\")"
      ],
      "execution_count": null,
      "outputs": []
    },
    {
      "cell_type": "markdown",
      "metadata": {
        "id": "4IffuFrKx-SK"
      },
      "source": [
        "### Plotting each cluster separately"
      ]
    },
    {
      "cell_type": "markdown",
      "metadata": {
        "id": "XSPBPUPByWuy"
      },
      "source": [
        "#### Clusters in X"
      ]
    },
    {
      "cell_type": "code",
      "metadata": {
        "id": "vzQTx6yyy8Ss"
      },
      "source": [
        "plot_1D_fit(xs, \"Value of the $x$-component\", [-0.7, -0.2], 100, (7,5))"
      ],
      "execution_count": null,
      "outputs": []
    },
    {
      "cell_type": "code",
      "metadata": {
        "id": "3yqd3qXu0ZWY"
      },
      "source": [
        "plot_1D_fit(xs, \"Value of the $x$-component\", [0.8, 1], 100, (7,5))"
      ],
      "execution_count": null,
      "outputs": []
    },
    {
      "cell_type": "markdown",
      "metadata": {
        "id": "jXOXkAs93YoD"
      },
      "source": [
        "#### Clusters in Y"
      ]
    },
    {
      "cell_type": "code",
      "metadata": {
        "id": "cBBJIpmE1LdY"
      },
      "source": [
        "plot_1D_fit(ys, \"Value of the $y$-component\", [-1., -0.4], 100, (7,5))"
      ],
      "execution_count": null,
      "outputs": []
    },
    {
      "cell_type": "code",
      "metadata": {
        "id": "skcSnOaK3frQ"
      },
      "source": [
        "plot_1D_fit(ys, \"Value of the $y$-component\", [0.85, 1.], 100, (7,5))"
      ],
      "execution_count": null,
      "outputs": []
    },
    {
      "cell_type": "markdown",
      "metadata": {
        "id": "MigvADkLrhLP"
      },
      "source": [
        "## 2.0 Mandatory additional questions\n"
      ]
    },
    {
      "cell_type": "markdown",
      "metadata": {
        "id": "tZWicEsb_PRB"
      },
      "source": [
        "### Transformation into angular data\n"
      ]
    },
    {
      "cell_type": "code",
      "metadata": {
        "id": "usXxvQmJY1Gy"
      },
      "source": [
        "def plot_angular_data(angles, density=True):\n",
        "  \"\"\"\n",
        "  Plotting angular data as a histogram.\n",
        "  \"\"\"\n",
        "  fig = plt.figure(num=None, figsize=(10,6), facecolor='w', edgecolor='k')\n",
        "  plt.hist(angles, bins=np.arange(-3,4, 0.2)-0.5,\n",
        "           color='lightgray', edgecolor='gray',\n",
        "           density=density)\n",
        "  plt.xlabel('Angle (rad)')\n",
        "\n",
        "def p_to_angle(x,y):\n",
        "  \"\"\"\n",
        "  Converting a point to an angle.\n",
        "  \"\"\"\n",
        "  if x == 0:\n",
        "    angle = (-np.sign(y)*np.pi/2)\n",
        "  elif x < 0:\n",
        "    angle = (-np.sign(y)*np.pi - np.arctan(y/x))\n",
        "  else:\n",
        "    angle = (-np.arctan(y/x))\n",
        "  return angle\n",
        "\n",
        "angles = [p_to_angle(x,y) for x,y in dirs]"
      ],
      "execution_count": null,
      "outputs": []
    },
    {
      "cell_type": "code",
      "metadata": {
        "id": "VreGgEUBqITz"
      },
      "source": [
        "plot_angular_data(angles, density=False)"
      ],
      "execution_count": null,
      "outputs": []
    },
    {
      "cell_type": "markdown",
      "metadata": {
        "id": "6Xdbl_9ubi4h"
      },
      "source": [
        "### Mixture of Von Mises : 2 components\n"
      ]
    },
    {
      "cell_type": "markdown",
      "metadata": {
        "id": "W4J7NbuO5QMf"
      },
      "source": [
        "#### Expectation Maximization for Von Mises Mixture"
      ]
    },
    {
      "cell_type": "code",
      "metadata": {
        "id": "xkxA8JXnMpNy"
      },
      "source": [
        "import numpy as np\n",
        "from scipy import optimize\n",
        "from scipy.special import iv\n",
        "\n",
        "\n",
        "def I0(kappa):\n",
        "  \"\"\"\n",
        "  Modified Bessel function of order 0\n",
        "  \"\"\"\n",
        "  return iv(0,kappa)\n",
        "\n",
        "def I1(kappa):\n",
        "  \"\"\"\n",
        "  Modified Bessel function of order 1\n",
        "  \"\"\"\n",
        "  return iv(1,kappa)\n",
        "\n",
        "def von_mises_pdf(x_n, mu_k, kappa_k):\n",
        "  return np.exp(kappa_k*np.cos(x_n - mu_k))/(2*np.pi*I0(kappa_k))\n",
        "\n",
        "def expectation_eta(x, pi_l, mu_l, kappa_l):\n",
        "  \"\"\"\n",
        "  Computing the responsibilities\n",
        "  \"\"\"\n",
        "  eta = [[_ for j in range(len(pi_l))] for _ in range(len(x))]\n",
        "  for i in range(len(x)):\n",
        "    sum = 0\n",
        "    for pi,mu,kappa in zip(pi_l,mu_l,kappa_l):\n",
        "      sum += pi*von_mises_pdf(x[i], mu, kappa)\n",
        "    for j,(pi,mu,kappa) in enumerate(zip(pi_l,mu_l,kappa_l)):\n",
        "      eta[i][j] = pi*von_mises_pdf(x[i], mu, kappa)/sum\n",
        "  return eta\n",
        "\n",
        "def update_pi(eta, k):\n",
        "  \"\"\"\n",
        "  Reestimating pi\n",
        "  \"\"\"\n",
        "  pi = 0\n",
        "  for i in range(len(eta)):\n",
        "    pi += eta[i][k]\n",
        "  return pi/len(eta)\n",
        "\n",
        "def update_mu(eta, x, k):\n",
        "  \"\"\"\n",
        "  Reestimating mu\n",
        "  \"\"\"\n",
        "  sum1,sum2 = 0,0\n",
        "  for i in range(len(x)):\n",
        "    sum1 += eta[i][k]*np.sin(x[i])\n",
        "    sum2 += eta[i][k]*np.cos(x[i])\n",
        "  return np.arctan2(sum1,sum2)\n",
        "\n",
        "def update_kappa(eta, x, k, mu_star, kappa):\n",
        "  \"\"\"\n",
        "  Reestimating kappa\n",
        "  \"\"\"\n",
        "  sum1,sum2 = 0,0\n",
        "  for i in range(len(x)):\n",
        "    sum1 += eta[i][k]*np.cos(x[i] - mu_star[k])\n",
        "    sum2 += eta[i][k]\n",
        "  sol = lambda kappa: I1(kappa)/I0(kappa) - sum1/sum2\n",
        "  return optimize.fsolve(sol, kappa[k])"
      ],
      "execution_count": null,
      "outputs": []
    },
    {
      "cell_type": "code",
      "metadata": {
        "id": "5JI5T-LCQHW4"
      },
      "source": [
        "def init_params(N):\n",
        "  \"\"\"\n",
        "  Initializing mixtures parameters\n",
        "  \"\"\"\n",
        "  pi = [1./N for _ in range(N)]\n",
        "  mu = np.random.uniform(-np.pi, np.pi, N)\n",
        "  kappa = [10 for _ in range(N)]\n",
        "  return pi, mu, kappa\n",
        "\n",
        "def EM_von_mises(x, N, max_iterations):\n",
        "  \"\"\"\n",
        "  Expectation Maximization for Von Mises Mixture\n",
        "  \"\"\"\n",
        "  pi, mu, kappa = init_params(N)\n",
        "\n",
        "  iter = 0\n",
        "  K = len(mu)\n",
        "  while iter < max_iterations:\n",
        "    # E-step\n",
        "    eta = expectation_eta(x, pi, mu, kappa)\n",
        "    # M-step\n",
        "    pi = [update_pi(eta, k) for k in range(K)]\n",
        "    mu = [update_mu(eta, x, k) for k in range(K)]\n",
        "    kappa = [update_kappa(eta, x, k, mu, kappa) for k in range(K)]\n",
        "    iter += 1\n",
        "\n",
        "  # Computing arg max_k (eta_k) for every sample\n",
        "  eta = expectation_eta(x, pi, mu, kappa)\n",
        "  k_s = np.argmax(eta, axis=1).flatten()\n",
        "\n",
        "  return pi, mu, kappa, k_s"
      ],
      "execution_count": null,
      "outputs": []
    },
    {
      "cell_type": "markdown",
      "metadata": {
        "id": "3mdKW5csNgeS"
      },
      "source": [
        "#### Plotting 3-components von Mises fit"
      ]
    },
    {
      "cell_type": "code",
      "metadata": {
        "id": "PGAu_KObNmiZ"
      },
      "source": [
        "def von_mises_mix_pdf(x, pi_l, mu_l, kappa_l):\n",
        "  \"\"\"\n",
        "  Computing a Von Mises Mixture PDF.\n",
        "  \"\"\"\n",
        "  pdf = None\n",
        "  for pi,mu,kappa in zip(pi_l, mu_l, kappa_l):\n",
        "    if pdf is None:\n",
        "      pdf = pi*von_mises_pdf(x, mu, kappa)\n",
        "    else:\n",
        "      pdf += pi*von_mises_pdf(x, mu, kappa)\n",
        "  return pdf\n",
        "\n",
        "def plot_vm_mix(pi_l, mu_l, kappa_l, color='red', alpha=1.0):\n",
        "  \"\"\"\n",
        "  Plotting a Von Mises mixture\n",
        "  \"\"\"\n",
        "  t = np.arange(*[-3.2,3.2], 0.005)\n",
        "\n",
        "  # Building the mixture\n",
        "  pdf = von_mises_mix_pdf(t, pi_l, mu_l, kappa_l)\n",
        "  pdf = pdf.reshape(-1)\n",
        "  plt.plot(t, pdf, linewidth=2.5,\n",
        "           color=color, zorder=10, alpha=alpha)\n",
        "  return ax\n",
        "\n",
        "# Running EM\n",
        "pi_l, mu_l, kappa_l, k_s = EM_von_mises(angles, 3, 100)\n",
        "\n",
        "# Plotting the histogram\n",
        "plot_angular_data(angles)\n",
        "\n",
        "# Plotting the mixture\n",
        "plot_vm_mix(pi_l, mu_l, np.array(kappa_l))"
      ],
      "execution_count": null,
      "outputs": []
    },
    {
      "cell_type": "code",
      "metadata": {
        "id": "0fPQSyoxPZoZ"
      },
      "source": [
        "mu_l, pi_l, kappa_l"
      ],
      "execution_count": null,
      "outputs": []
    },
    {
      "cell_type": "markdown",
      "metadata": {
        "id": "1f0Cv-S1zH8x"
      },
      "source": [
        "#### Plotting the Von Mises fit on the unit circle"
      ]
    },
    {
      "cell_type": "code",
      "metadata": {
        "id": "sdhoox0tzNA_"
      },
      "source": [
        "def von_mises_mix_pdf(x, pi_l, mu_l, kappa_l):\n",
        "  \"\"\"\n",
        "  Computing a Von Mises Mixture PDF.\n",
        "  \"\"\"\n",
        "  pdf = None\n",
        "  for pi,mu,kappa in zip(pi_l, mu_l, kappa_l):\n",
        "    if pdf is None:\n",
        "      pdf = pi*von_mises_pdf(x, mu, kappa)\n",
        "    else:\n",
        "      pdf += pi*von_mises_pdf(x, mu, kappa)\n",
        "  return pdf\n",
        "\n",
        "def von_mises_ct(pi_l, mu_l, kappa_l):\n",
        "  def von_mises_clj(x,y):\n",
        "    return von_mises_mix_pdf(p_to_angle(x,y),\n",
        "                             pi_l, mu_l, kappa_l)\n",
        "  return von_mises_clj\n",
        "\n",
        "def plot_vm_contours(pi_l, mu_l, kappa_l, angles, k_s, cols):\n",
        "  \"\"\"\n",
        "  Plotting angles on the unit circle,\n",
        "  with the Von Mises PDF contours.\n",
        "  \"\"\"\n",
        "  # Plotting angles\n",
        "  fig = plt.figure(num=None, figsize=(12,10), facecolor='w', edgecolor='k')\n",
        "  for t,k in zip(angles, k_s):\n",
        "    x,y = np.cos(t), np.sin(t)\n",
        "    plt.plot(x, y, cols[k-1], marker='.')\n",
        "\n",
        "  # Plotting mixture contour levels\n",
        "  X,Y,p = make_grid(-1.2, 1.2)\n",
        "\n",
        "  pdf = von_mises_ct(pi_l, mu_l, kappa_l)\n",
        "  pdf_ct = [[pdf(x,y) for (x,y) in p[c]] for c in range(np.shape(p)[0])]\n",
        "  pdf_ct = np.array(pdf_ct).squeeze()\n",
        "\n",
        "  ax = plt.gca()\n",
        "  CS = ax.contour(X, Y, pdf_ct,\n",
        "                  locator=ticker.LogLocator(base=10, numticks=18),\n",
        "                  cmap='Greys')\n",
        "  ax.clabel(CS, inline=1, fmt='%.e', fontsize=10)\n",
        "  CB = plt.colorbar(CS)"
      ],
      "execution_count": null,
      "outputs": []
    },
    {
      "cell_type": "code",
      "metadata": {
        "id": "JLl_qmybGRY-"
      },
      "source": [
        "# Plotting the graph\n",
        "plot_vm_contours(pi_l, mu_l, kappa_l, angles, k_s, ['lime', 'slateblue', 'red'])"
      ],
      "execution_count": null,
      "outputs": []
    },
    {
      "cell_type": "markdown",
      "metadata": {
        "id": "M_x29I-MFu0d"
      },
      "source": [
        "### Plotting a 2-components Von-Mises mixture"
      ]
    },
    {
      "cell_type": "code",
      "metadata": {
        "id": "cUATX1aqF0gR"
      },
      "source": [
        "pi_l, mu_l, kappa_l, k_s = EM_von_mises(angles, 2, 50)\n",
        "\n",
        "# Plotting the graph\n",
        "plot_vm_contours(pi_l, mu_l, kappa_l, angles, k_s, ['lime', 'slateblue', 'red'])"
      ],
      "execution_count": null,
      "outputs": []
    },
    {
      "cell_type": "markdown",
      "metadata": {
        "id": "VfQCka68u1hN"
      },
      "source": [
        "## 3.0 Optional additional questions"
      ]
    },
    {
      "cell_type": "markdown",
      "metadata": {
        "id": "mFgwTh4mCy4-"
      },
      "source": [
        "### Consistency of an estimator"
      ]
    },
    {
      "cell_type": "code",
      "metadata": {
        "id": "bBSrOUuMEaaJ"
      },
      "source": [
        "import numpy as np\n",
        "from sklearn import mixture\n",
        "\n",
        "\n",
        "def sample_gmm(n, pi_l, mu_l, sigma_l):\n",
        "  \"\"\"\n",
        "  Sampling from a GMM with given parameters.\n",
        "  \"\"\"\n",
        "  # Sampling the categories\n",
        "  n_comp = len(pi_l)\n",
        "  k_s = np.random.choice(list(range(1,n_comp+1)), size=n, p=pi_l)\n",
        "\n",
        "  # Sampling from each component\n",
        "  samples = []\n",
        "  for k, (mu,sigma) in enumerate(zip(mu_l,sigma_l)):\n",
        "    g_k = np.count_nonzero(k_s == (k+1))\n",
        "    gen = np.random.multivariate_normal(mu, sigma, g_k).T\n",
        "    samples += list(zip(*gen))\n",
        "\n",
        "  return np.array(samples)\n",
        "\n",
        "def BIC_estimator(samples, theta):\n",
        "  \"\"\"\n",
        "  Estimate the optimal number of components\n",
        "  of mixture-generated data \"samples\"\n",
        "  by exploring the parameter space \"theta\",\n",
        "  using the bayesian information criterion.\n",
        "  \"\"\"\n",
        "  best_bic = np.infty\n",
        "  best_cmp = -1\n",
        "\n",
        "  for n_comp in theta:\n",
        "    gmm = mixture.GaussianMixture(n_components=n_comp)\n",
        "    gmm.fit(samples)\n",
        "    \n",
        "    # Computing BIC\n",
        "    gmm_bic = gmm.bic(samples)\n",
        "\n",
        "    if gmm_bic < best_bic:\n",
        "      best_bic = gmm_bic\n",
        "      best_cmp = n_comp\n",
        "\n",
        "  return best_cmp\n",
        "\n",
        "def AIC_estimator(samples, theta):\n",
        "  \"\"\"\n",
        "  Estimate the optimal number of components\n",
        "  of mixture-generated data \"samples\"\n",
        "  by exploring the parameter space \"theta\",\n",
        "  using the Akaike information criterion.\n",
        "  \"\"\"\n",
        "  best_aic = np.infty\n",
        "  best_cmp = -1\n",
        "\n",
        "  for n_comp in theta:\n",
        "    gmm = mixture.GaussianMixture(n_components=n_comp)\n",
        "    gmm.fit(samples)\n",
        "    \n",
        "    # Computing AIC\n",
        "    gmm_aic = gmm.aic(samples)\n",
        "\n",
        "    if gmm_aic < best_aic:\n",
        "      best_aic = gmm_aic\n",
        "      best_cmp = n_comp\n",
        "\n",
        "  return best_cmp\n",
        "\n",
        "\n",
        "# Fixing the 4-components GMM's parameters\n",
        "pi_l = [0.25, 0.45, 0.15, 0.15]\n",
        "mu_l = [[-3, 0], [3, 0], [8,1], [-8,1]]\n",
        "sigma_l = [[[5, -2], [-2, 1]], [[5, 2], [2, 2]],\n",
        "           [[7, 2], [2, 3]],   [[3, 2], [2, 7]]]"
      ],
      "execution_count": null,
      "outputs": []
    },
    {
      "cell_type": "code",
      "metadata": {
        "id": "8j_0W--IJsrk"
      },
      "source": [
        "# Initializing the parameter space to explore\n",
        "MAX_K = 20\n",
        "theta = list(range(1, MAX_K+1)) # Here we picked 1..20\n",
        "\n",
        "# Samples with increasing size\n",
        "n_values = list(range(MAX_K, 750, 5))\n",
        "\n",
        "est_n_comp = []\n",
        "est_n_comp_aic = []\n",
        "for N in n_values:\n",
        "  # Generating N datapoints from a 4-components GMM\n",
        "  X = sample_gmm(N, pi_l, mu_l, sigma_l)\n",
        "\n",
        "  # Computing the BIC-estimated number of components\n",
        "  est_n_comp += [BIC_estimator(X, theta)]\n",
        "  est_n_comp_aic += [AIC_estimator(X, theta)]"
      ],
      "execution_count": null,
      "outputs": []
    },
    {
      "cell_type": "markdown",
      "metadata": {
        "id": "tUt9GX-2T18I"
      },
      "source": [
        "#### Plotting the results"
      ]
    },
    {
      "cell_type": "code",
      "metadata": {
        "id": "W8YyCdhkT7cL"
      },
      "source": [
        "from matplotlib import pyplot as plt\n",
        "\n",
        "fig = plt.figure(num=None, figsize=(12, 6), facecolor='w', edgecolor='k')\n",
        "plt.plot(n_values, est_n_comp, linewidth=2.5, color='blue', label=\"BIC-estimated $K$\")\n",
        "plt.plot(n_values, est_n_comp_aic, linewidth=2.5, color='red', label=\"AIC-estimated $K$\")\n",
        "\n",
        "plt.axhline(4, color='green', label=\"Real $K$\")\n",
        "plt.legend(loc=\"upper right\")\n",
        "plt.yticks(np.arange(0, MAX_K+1, 5))\n",
        "\n",
        "plt.xlabel(\"Number of observations $N$\")\n",
        "plt.ylabel(\"Value of $\\widehat{K}$\")\n",
        "\n",
        "plt.show()"
      ],
      "execution_count": null,
      "outputs": []
    },
    {
      "cell_type": "markdown",
      "metadata": {
        "id": "nRYdxIYfvi5a"
      },
      "source": [
        "### Implementing Von Mises sampling and Von Mises mixtures"
      ]
    },
    {
      "cell_type": "code",
      "metadata": {
        "id": "AGOnZOozu442"
      },
      "source": [
        "import numpy as np\n",
        "from scipy import stats\n",
        "from scipy.special import iv\n",
        "\n",
        "\n",
        "def I0(kappa):\n",
        "  \"\"\"\n",
        "  Modified Bessel function of order 0\n",
        "  \"\"\"\n",
        "  return iv(0,kappa)\n",
        "\n",
        "def I1(kappa):\n",
        "  \"\"\"\n",
        "  Modified Bessel function of order 1\n",
        "  \"\"\"\n",
        "  return iv(1,kappa)\n",
        "\n",
        "def von_mises_pdf(x, mu, kappa):\n",
        "  \"\"\"\n",
        "  Von Mises PDF function\n",
        "  \"\"\"\n",
        "  return np.exp(kappa*np.cos(x - mu))/(2*np.pi*I0(kappa))\n",
        "\n",
        "def von_mises_sample(mu, kappa, n):\n",
        "  \"\"\"\n",
        "  Sampling from a Von Mises distribution\n",
        "\n",
        "    Reference:\n",
        "      [1] Barabesi, L. (1995) Generating von Mises variates by\n",
        "      the ratio-of-uniforms method, Statistica Applicata 7, 417-426.\n",
        "  \"\"\"\n",
        "  samples = [0 for _ in range(n)]\n",
        "\n",
        "  for k in range(n):\n",
        "    s = 1/np.sqrt(kappa) if kappa > 1.3 else np.pi*np.exp(-kappa)\n",
        "\n",
        "    while True:\n",
        "      r1,r2 = np.random.uniform(0, 1, 2)\n",
        "      theta = s*(2*r2-1)/r1\n",
        "\n",
        "      if np.abs(theta) > np.pi:\n",
        "        continue\n",
        "      if kappa*(theta*theta) < 4 - 4*r1:\n",
        "        break\n",
        "      if kappa*np.cos(theta) < 2*np.log(r1) + kappa:\n",
        "        continue\n",
        "      break\n",
        "    samples[k] = theta\n",
        "  return np.array(samples) + np.array([mu]*n)"
      ],
      "execution_count": null,
      "outputs": []
    },
    {
      "cell_type": "code",
      "metadata": {
        "id": "t0WI_FDDMP6S"
      },
      "source": [
        "# Test parameters\n",
        "kappa = 4\n",
        "mu = 0\n",
        "\n",
        "# Instantiating Von-Mises CDF\n",
        "vm_fun = stats.vonmises(kappa=kappa, loc=mu)\n",
        "\n",
        "# Sampling 100k points\n",
        "points = von_mises_sample(mu, kappa, 100000)\n",
        "\n",
        "# Plotting the histogram\n",
        "plot_angular_data(points)\n",
        "\n",
        "# Plotting sampled points\n",
        "t = np.arange(*[-3.2,3.2], 0.005)\n",
        "plt.plot(t, vm_fun.pdf(t), linewidth=2.5, color='red', zorder=10)\n",
        "plt.xlabel('Angle (rad)')"
      ],
      "execution_count": null,
      "outputs": []
    },
    {
      "cell_type": "code",
      "metadata": {
        "id": "lATSjlIPMngI"
      },
      "source": [
        "# Kolmogorov-Smirnov test\n",
        "from scipy import stats\n",
        "\n",
        "def kolmogorov_smirnov(kappa):\n",
        "  \"\"\"\n",
        "  Performing a Kolmogorov-Smirnov statistical test\n",
        "  to compare the quality of our sampling function.\n",
        "  \"\"\"\n",
        "  vm_fun = stats.vonmises(kappa=kappa, loc=0)\n",
        "  t = stats.kstest(von_mises_sample(0, kappa, 100000), vm_fun.cdf)\n",
        "  print(t)\n",
        "\n",
        "kolmogorov_smirnov(0.5)\n",
        "kolmogorov_smirnov(10)\n",
        "kolmogorov_smirnov(50)\n",
        "kolmogorov_smirnov(100)"
      ],
      "execution_count": null,
      "outputs": []
    },
    {
      "cell_type": "code",
      "metadata": {
        "id": "YSqCmAGFykKp"
      },
      "source": [
        "def von_mises_mixture_sample(pi_l, mu_l, kappa_l, n):\n",
        "  \"\"\"\n",
        "  Sampling from a Von Mises mixture.\n",
        "  \"\"\"\n",
        "  # Sampling the categories\n",
        "  n_comp = len(pi_l)\n",
        "  k_s = np.random.choice(list(range(1,n_comp+1)), size=n, p=pi_l)\n",
        "\n",
        "  # Sampling from each component\n",
        "  classes = []\n",
        "  samples = []\n",
        "  for k, (mu,kappa) in enumerate(zip(mu_l,kappa_l)):\n",
        "    g_k = np.count_nonzero(k_s == (k+1))\n",
        "    samples += list(von_mises_sample(mu, kappa, g_k))\n",
        "    classes += g_k*[k]\n",
        "\n",
        "  return samples, classes\n",
        "\n",
        "# Sampling 1000 points from a mixture\n",
        "kappa_l = [15, 10, 60]\n",
        "mu_l = [(-2/3)*np.pi, 0, (2/3)*np.pi]\n",
        "pi_l = [0.3, 0.25, 0.45]\n",
        "\n",
        "angles,k = von_mises_mixture_sample(pi_l, mu_l, kappa_l, 10000)"
      ],
      "execution_count": null,
      "outputs": []
    },
    {
      "cell_type": "code",
      "metadata": {
        "id": "0KqynZKLUBTT"
      },
      "source": [
        "# Plotting the resulting histogram\n",
        "plot_angular_data(angles)\n",
        "\n",
        "# Plotting the mixture\n",
        "plot_vm_mix(pi_l, mu_l, np.array(kappa_l))"
      ],
      "execution_count": null,
      "outputs": []
    },
    {
      "cell_type": "markdown",
      "metadata": {
        "id": "Dxi65UmVUwYF"
      },
      "source": [
        "#### Re-estimating Von Mises parameters"
      ]
    },
    {
      "cell_type": "code",
      "metadata": {
        "id": "tpSduX4OFonk"
      },
      "source": [
        "pi_p, mu_p, kappa_p, k_s = EM_von_mises(angles, 3, 10)\n",
        "plot_vm_contours(pi_p, mu_p, kappa_p, angles, k, ['lime', 'slateblue', 'red'])"
      ],
      "execution_count": null,
      "outputs": []
    },
    {
      "cell_type": "code",
      "metadata": {
        "id": "4ucmB7B2OZjy"
      },
      "source": [
        "# Plotting the resulting histogram\n",
        "plot_angular_data(angles)\n",
        "\n",
        "# Plotting the mixture\n",
        "plot_vm_mix(pi_l, mu_l, np.array(kappa_l), color=\"green\", alpha=0.5)\n",
        "plot_vm_mix(pi_p, mu_p, np.array(kappa_p), alpha=0.5)"
      ],
      "execution_count": null,
      "outputs": []
    },
    {
      "cell_type": "code",
      "metadata": {
        "id": "bGMyLERMZqBP"
      },
      "source": [
        "def error_p(a, r_a, b, r_b, c, r_c):\n",
        "  \"\"\"\n",
        "  Computing error percentages of input parameters.\n",
        "  \"\"\"\n",
        "  def error(n0, n1):\n",
        "    return np.abs(((n0 - n1)/n1)*100)\n",
        "\n",
        "  p_1 = error(a, r_a)\n",
        "  p_2 = error(b, r_b)\n",
        "  p_3 = error(c, r_c)\n",
        "\n",
        "  return np.mean([p_1, p_2, p_3])"
      ],
      "execution_count": null,
      "outputs": []
    }
  ]
}